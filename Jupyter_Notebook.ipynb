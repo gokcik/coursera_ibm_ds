{
 "cells": [
  {
   "cell_type": "markdown",
   "metadata": {},
   "source": [
    "<center>\n",
    "    <img src=\"https://cf-courses-data.s3.us.cloud-object-storage.appdomain.cloud/IBMDeveloperSkillsNetwork-DS0105EN-SkillsNetwork/labs/Module2/images/SN_web_lightmode.png\" width=\"300\" alt=\"cognitiveclass.ai logo\">\n",
    "</center>\n"
   ]
  },
  {
   "cell_type": "markdown",
   "metadata": {},
   "source": [
    "#### Add your code below following the instructions given in the course\n"
   ]
  },
  {
   "cell_type": "markdown",
   "metadata": {},
   "source": [
    "# Data Science Tools and Ecosystem"
   ]
  },
  {
   "cell_type": "markdown",
   "metadata": {},
   "source": [
    "In this notebook, Data Science Tools and Ecosystem are summarized."
   ]
  },
  {
   "cell_type": "markdown",
   "metadata": {},
   "source": [
    "**Objectives**\n",
    "- List of popular languages that Data Scientists\n",
    "- List of some of the commonly used libraries used by Data Scientists\n",
    "- Table of some of the commonly used libraries used by Data Scientists\n",
    "- Basic Arithmetic Operators"
   ]
  },
  {
   "cell_type": "markdown",
   "metadata": {},
   "source": [
    "Some of the popular languages that Data Scientists use are:\n",
    "1. **Python:** Python is one of the most popular languages for data science. It has a rich ecosystem of libraries and frameworks like NumPy, pandas, scikit-learn, TensorFlow, and PyTorch for data manipulation, analysis, and machine learning.\n",
    "\n",
    "2. **R:** R is another language commonly used for statistical analysis and data visualization. It has a strong community and packages like ggplot2 and dplyr for data manipulation.\n",
    "\n",
    "3. **SQL:** Structured Query Language (SQL) is essential for working with relational databases. Data scientists frequently use SQL to query and manipulate data stored in databases.\n",
    "\n",
    "4. **Java:** Java is sometimes used for big data processing with frameworks like Apache Hadoop and Apache Spark. It's especially useful for handling large-scale data analytics.\n",
    "\n",
    "5. **Julia:** Julia is gaining popularity for its speed and performance in numerical and scientific computing. It's a good choice for tasks that require high-performance computing.\n",
    "\n",
    "6. **Scala:** Scala is often used in conjunction with Apache Spark for distributed data processing. It offers both functional and object-oriented programming capabilities.\n",
    "\n",
    "7. **Julia:** Julia is an emerging language that's gaining traction in the data science community due to its high performance and ease of use for scientific computing and data analysis.\n",
    "\n",
    "8. **Scala:** Scala, which runs on the Java Virtual Machine (JVM), is popular for data processing tasks, especially when combined with Apache Spark."
   ]
  },
  {
   "cell_type": "markdown",
   "metadata": {},
   "source": [
    "Some of the commonly used libraries used by Data Scientists include:\n",
    "1. **NumPy**: NumPy is a fundamental library for numerical computing in Python. It provides support for multi-dimensional arrays and matrices, along with mathematical functions to operate on them efficiently.\n",
    "\n",
    "2. **pandas**: pandas is a Python library for data manipulation and analysis. It offers data structures like DataFrames for handling structured data and provides powerful tools for data cleaning, transformation, and exploration.\n",
    "\n",
    "3. **scikit-learn**: scikit-learn is a popular machine learning library for Python. It offers a wide range of algorithms for classification, regression, clustering, dimensionality reduction, and model evaluation.\n",
    "\n",
    "4. **Matplotlib**: Matplotlib is a Python library for creating static, animated, and interactive data visualizations. It is widely used for generating charts, plots, and graphs.\n",
    "\n",
    "5. **Seaborn**: Seaborn is built on top of Matplotlib and provides a higher-level interface for creating aesthetically pleasing statistical graphics. It simplifies the process of creating informative visualizations.\n",
    "\n",
    "6. **TensorFlow**: TensorFlow is an open-source machine learning framework developed by Google. It's particularly popular for deep learning tasks and neural network development.\n",
    "\n",
    "7. **PyTorch**: PyTorch is another deep learning framework known for its flexibility and dynamic computation graph. It's favored by researchers and practitioners for deep learning applications.\n",
    "\n",
    "8. **Keras**: Keras is an API that runs on top of TensorFlow and other deep learning frameworks. It provides a user-friendly interface for building and training neural networks.\n",
    "\n",
    "9. **Scipy**: Scipy is an ecosystem of libraries built on top of NumPy. It includes modules for optimization, integration, interpolation, linear algebra, and other scientific computing tasks.\n",
    "\n",
    "10. **NLTK (Natural Language Toolkit)**: NLTK is a library for natural language processing and text analysis tasks. It provides tools for tokenization, stemming, tagging, and more."
   ]
  },
  {
   "cell_type": "markdown",
   "metadata": {},
   "source": [
    "| Data Science Tools   |\n",
    "|----------------------|\n",
    "| Jupyter Notebook     |\n",
    "| RStudio              |\n",
    "| VS Code with Python  |"
   ]
  },
  {
   "cell_type": "markdown",
   "metadata": {},
   "source": [
    "## Arithmetic Expression Examples\n",
    "\n",
    "Arithmetic expressions are fundamental mathematical statements that involve basic mathematical operations such as addition, subtraction, multiplication, and division. These expressions are used extensively in mathematics, programming, and everyday calculations.\n",
    "\n",
    "### Basic Arithmetic Operators\n",
    "\n",
    "Here are some examples of basic arithmetic expressions using the most common operators:\n",
    "\n",
    "1. **Addition (+)**: Adding two numbers together.\n"
   ]
  },
  {
   "cell_type": "code",
   "execution_count": 2,
   "metadata": {
    "tags": []
   },
   "outputs": [
    {
     "data": {
      "text/plain": [
       "8"
      ]
     },
     "execution_count": 2,
     "metadata": {},
     "output_type": "execute_result"
    }
   ],
   "source": [
    "5+3"
   ]
  },
  {
   "cell_type": "markdown",
   "metadata": {},
   "source": [
    "2. **Subtraction (-)**: Subtracting one number from another."
   ]
  },
  {
   "cell_type": "code",
   "execution_count": 3,
   "metadata": {
    "tags": []
   },
   "outputs": [
    {
     "data": {
      "text/plain": [
       "2"
      ]
     },
     "execution_count": 3,
     "metadata": {},
     "output_type": "execute_result"
    }
   ],
   "source": [
    "5-3"
   ]
  },
  {
   "cell_type": "markdown",
   "metadata": {},
   "source": [
    "3. **Multiplication (*)**: Multiplying two numbers."
   ]
  },
  {
   "cell_type": "code",
   "execution_count": 6,
   "metadata": {
    "jupyter": {
     "source_hidden": true
    },
    "tags": []
   },
   "outputs": [
    {
     "data": {
      "text/plain": [
       "15"
      ]
     },
     "execution_count": 6,
     "metadata": {},
     "output_type": "execute_result"
    }
   ],
   "source": [
    "5*3"
   ]
  },
  {
   "cell_type": "markdown",
   "metadata": {},
   "source": [
    "4. **Division (/)**: Dividing one number by another."
   ]
  },
  {
   "cell_type": "code",
   "execution_count": 5,
   "metadata": {
    "tags": []
   },
   "outputs": [
    {
     "data": {
      "text/plain": [
       "1.6666666666666667"
      ]
     },
     "execution_count": 5,
     "metadata": {},
     "output_type": "execute_result"
    }
   ],
   "source": [
    "5/3"
   ]
  },
  {
   "cell_type": "code",
   "execution_count": 8,
   "metadata": {
    "tags": []
   },
   "outputs": [
    {
     "data": {
      "text/plain": [
       "17"
      ]
     },
     "execution_count": 8,
     "metadata": {},
     "output_type": "execute_result"
    }
   ],
   "source": [
    "# This a simple arithmetic expression to mutiply then add integers\n",
    "(3*4)+5"
   ]
  },
  {
   "cell_type": "code",
   "execution_count": 9,
   "metadata": {
    "tags": []
   },
   "outputs": [
    {
     "data": {
      "text/plain": [
       "3"
      ]
     },
     "execution_count": 9,
     "metadata": {},
     "output_type": "execute_result"
    }
   ],
   "source": [
    "# This will convert 200 minutes to hours by diving by 60.\n",
    "200//60"
   ]
  },
  {
   "cell_type": "markdown",
   "metadata": {},
   "source": [
    "## Author\n",
    "Gokce Aydugan Baydar\n"
   ]
  },
  {
   "cell_type": "code",
   "execution_count": null,
   "metadata": {},
   "outputs": [],
   "source": []
  }
 ],
 "metadata": {
  "kernelspec": {
   "display_name": "Python",
   "language": "python",
   "name": "conda-env-python-py"
  },
  "language_info": {
   "codemirror_mode": {
    "name": "ipython",
    "version": 3
   },
   "file_extension": ".py",
   "mimetype": "text/x-python",
   "name": "python",
   "nbconvert_exporter": "python",
   "pygments_lexer": "ipython3",
   "version": "3.7.12"
  }
 },
 "nbformat": 4,
 "nbformat_minor": 4
}
